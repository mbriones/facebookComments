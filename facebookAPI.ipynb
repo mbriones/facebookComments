{
 "cells": [
  {
   "cell_type": "code",
   "execution_count": 2,
   "metadata": {},
   "outputs": [
    {
     "name": "stderr",
     "output_type": "stream",
     "text": [
      "/Users/miguelbriones/Documents/ByteflowProjects/virtual/lib/python3.6/importlib/_bootstrap.py:205: RuntimeWarning: numpy.dtype size changed, may indicate binary incompatibility. Expected 96, got 88\n",
      "  return f(*args, **kwds)\n"
     ]
    }
   ],
   "source": [
    "import simplejson as json\n",
    "import urllib\n",
    "import pprint\n",
    "import pandas as pd\n",
    "from pandas.io.json import json_normalize"
   ]
  },
  {
   "cell_type": "code",
   "execution_count": 3,
   "metadata": {},
   "outputs": [
    {
     "name": "stdout",
     "output_type": "stream",
     "text": [
      "{'data': [{'created_time': '2018-08-03T15:00:14+0000',\n",
      "           'from': {'id': '304532383443796', 'name': 'MiguelPage'},\n",
      "           'id': '304532903443744_304534963443538',\n",
      "           'message': 'test comments 1'},\n",
      "          {'created_time': '2018-08-03T15:00:18+0000',\n",
      "           'from': {'id': '304532383443796', 'name': 'MiguelPage'},\n",
      "           'id': '304532903443744_304535016776866',\n",
      "           'message': 'nother commenta'}],\n",
      " 'paging': {'cursors': {'after': 'WTI5dGJXVnVkRjlqZAFhKemIzSTZANekEwTlRNMU1ERTJOemMyT0RZAMk9qRTFNek16TURnME1UZAz0ZD',\n",
      "                        'before': 'WTI5dGJXVnVkRjlqZAFhKemIzSTZANekEwTlRNME9UWXpORFF6TlRNNE9qRTFNek16TURnME1UVT0ZD'}}}\n"
     ]
    }
   ],
   "source": [
    "# make Facebook access token variable\n",
    "ACCESS_TOKEN = 'EAADeH0mQVOQBAMZB9YaIldIZB3oSDuteZAJHBUIwZAGFRcuG2mZBiz4aESOzvGIYAGBVkB4PvdSuLlJgaBnQHldORVqpEZBZClJ5hZCj51avpzo3hA1qHHiXgM3t29Gmrmkf4E0xYSu1fu9KZBidh2U5JfxAxpeyFJcmGscLO9KEmF4ZAF5lfYaiWAbZCJDbcvHW99V6SRRpMwUhwZDZD'\n",
    "\n",
    "# build the URL for the API endpoint\n",
    "host = \"https://graph.facebook.com\"\n",
    "params = urllib.parse.urlencode({\"access_token\": ACCESS_TOKEN})\n",
    "pageID = '304532383443796'\n",
    "\n",
    "#get from GraphAPI website\n",
    "path = \"/304532383443796/posts\"\n",
    "url = \"{host}{path}?{params}\".format(host=host, path=path, params=params)\n",
    "\n",
    "\n",
    "# open the URL and read the response\n",
    "resp = urllib.request.urlopen(url).read()\n",
    "\n",
    "# convert the returned JSON string to a Python datatype \n",
    "me = json.loads(resp)\n",
    "\n",
    "datalen = len(me['data'])\n",
    "\n",
    "idNum = []\n",
    "\n",
    "for i in range(datalen):\n",
    "    idNum.append(me['data'][i]['id'])\n",
    "    \n",
    "\n",
    "secondpath = \"/304532383443796_304532903443744/comments\"\n",
    "secondurl = \"{host}{path}?{params}\".format(host=host, path=secondpath, params=params)\n",
    "\n",
    "# open the URL and read the response\n",
    "secondresp = urllib.request.urlopen(secondurl).read()\n",
    "\n",
    "# convert the returned JSON string to a Python datatype \n",
    "messages = json.loads(secondresp)\n",
    "    \n",
    "\n",
    "# display the result\n",
    "pprint.pprint(messages)\n"
   ]
  },
  {
   "cell_type": "code",
   "execution_count": 7,
   "metadata": {},
   "outputs": [],
   "source": [
    "def facebookComments(pageID, appended_data):\n",
    "    \n",
    "    # get from GraphAPI website\n",
    "    path = '/' + pageID + '/posts'\n",
    "    url = \"{host}{path}?{params}\".format(host=host, path=path, params=params)\n",
    "    \n",
    "    # open the URL and read the response\n",
    "    resp = urllib.request.urlopen(url).read()\n",
    "    \n",
    "    # convert the returned JSON string to a Python datatype \n",
    "    page = json.loads(resp)\n",
    "    \n",
    "    # Get the length of json data\n",
    "    datalen = len(me['data'])\n",
    "\n",
    "    # create an empty ID list\n",
    "    idNum = []\n",
    "    \n",
    "    # add id numbers for facebook post to ID list\n",
    "    for i in range(datalen):\n",
    "        idNum.append(me['data'][i]['id'])\n",
    "\n",
    "    # for every post id number, go in and retrieve the comments\n",
    "    for j in idNum:\n",
    "        samplepath = '/' + j + '/comments'\n",
    "        sampleurl = \"{host}{path}?{params}\".format(host=host, path=samplepath, params=params)\n",
    "    \n",
    "        sampleresp = urllib.request.urlopen(sampleurl).read()\n",
    "        samplemessages = json.loads(sampleresp)\n",
    "    \n",
    "        #create a dataframe out of the json file for the comments and append to empty data list\n",
    "        sampledf = pd.DataFrame.from_dict(json_normalize(samplemessages['data']), orient='columns')\n",
    "        appended_data.append(sampledf)\n",
    "    \n",
    "    return (appended_data)"
   ]
  },
  {
   "cell_type": "code",
   "execution_count": 8,
   "metadata": {},
   "outputs": [
    {
     "data": {
      "text/html": [
       "<div>\n",
       "<style scoped>\n",
       "    .dataframe tbody tr th:only-of-type {\n",
       "        vertical-align: middle;\n",
       "    }\n",
       "\n",
       "    .dataframe tbody tr th {\n",
       "        vertical-align: top;\n",
       "    }\n",
       "\n",
       "    .dataframe thead th {\n",
       "        text-align: right;\n",
       "    }\n",
       "</style>\n",
       "<table border=\"1\" class=\"dataframe\">\n",
       "  <thead>\n",
       "    <tr style=\"text-align: right;\">\n",
       "      <th></th>\n",
       "      <th>created_time</th>\n",
       "      <th>from.id</th>\n",
       "      <th>from.name</th>\n",
       "      <th>id</th>\n",
       "      <th>message</th>\n",
       "    </tr>\n",
       "  </thead>\n",
       "  <tbody>\n",
       "    <tr>\n",
       "      <th>0</th>\n",
       "      <td>2018-08-03T15:00:14+0000</td>\n",
       "      <td>304532383443796</td>\n",
       "      <td>MiguelPage</td>\n",
       "      <td>304532903443744_304534963443538</td>\n",
       "      <td>test comments 1</td>\n",
       "    </tr>\n",
       "    <tr>\n",
       "      <th>1</th>\n",
       "      <td>2018-08-03T15:00:18+0000</td>\n",
       "      <td>304532383443796</td>\n",
       "      <td>MiguelPage</td>\n",
       "      <td>304532903443744_304535016776866</td>\n",
       "      <td>nother commenta</td>\n",
       "    </tr>\n",
       "    <tr>\n",
       "      <th>0</th>\n",
       "      <td>2018-08-03T15:00:25+0000</td>\n",
       "      <td>304532383443796</td>\n",
       "      <td>MiguelPage</td>\n",
       "      <td>304532736777094_304535096776858</td>\n",
       "      <td>testing out the comments</td>\n",
       "    </tr>\n",
       "    <tr>\n",
       "      <th>1</th>\n",
       "      <td>2018-08-03T15:00:30+0000</td>\n",
       "      <td>304532383443796</td>\n",
       "      <td>MiguelPage</td>\n",
       "      <td>304532736777094_304535150110186</td>\n",
       "      <td>commenting so much omg</td>\n",
       "    </tr>\n",
       "  </tbody>\n",
       "</table>\n",
       "</div>"
      ],
      "text/plain": [
       "               created_time          from.id   from.name  \\\n",
       "0  2018-08-03T15:00:14+0000  304532383443796  MiguelPage   \n",
       "1  2018-08-03T15:00:18+0000  304532383443796  MiguelPage   \n",
       "0  2018-08-03T15:00:25+0000  304532383443796  MiguelPage   \n",
       "1  2018-08-03T15:00:30+0000  304532383443796  MiguelPage   \n",
       "\n",
       "                                id                   message  \n",
       "0  304532903443744_304534963443538           test comments 1  \n",
       "1  304532903443744_304535016776866           nother commenta  \n",
       "0  304532736777094_304535096776858  testing out the comments  \n",
       "1  304532736777094_304535150110186    commenting so much omg  "
      ]
     },
     "execution_count": 8,
     "metadata": {},
     "output_type": "execute_result"
    }
   ],
   "source": [
    "# make Facebook access token variable\n",
    "ACCESS_TOKEN = 'EAADeH0mQVOQBAMZB9YaIldIZB3oSDuteZAJHBUIwZAGFRcuG2mZBiz4aESOzvGIYAGBVkB4PvdSuLlJgaBnQHldORVqpEZBZClJ5hZCj51avpzo3hA1qHHiXgM3t29Gmrmkf4E0xYSu1fu9KZBidh2U5JfxAxpeyFJcmGscLO9KEmF4ZAF5lfYaiWAbZCJDbcvHW99V6SRRpMwUhwZDZD'\n",
    "\n",
    "# build the URL for the API endpoint\n",
    "host = \"https://graph.facebook.com\"\n",
    "params = urllib.parse.urlencode({\"access_token\": ACCESS_TOKEN})\n",
    "pageID = '304532383443796'\n",
    "\n",
    "# create an empty data list\n",
    "appended_data = []\n",
    "\n",
    "facebookComments(pageID, appended_data)\n",
    "\n",
    "#take the data list and paste together all data into one dataframe\n",
    "comment_data = pd.concat(appended_data, axis=0)\n",
    "\n",
    "comment_data"
   ]
  },
  {
   "cell_type": "code",
   "execution_count": 6,
   "metadata": {},
   "outputs": [
    {
     "data": {
      "text/plain": [
       "['304532383443796_304532903443744', '304532383443796_304532736777094']"
      ]
     },
     "execution_count": 6,
     "metadata": {},
     "output_type": "execute_result"
    }
   ],
   "source": [
    "idNum"
   ]
  },
  {
   "cell_type": "code",
   "execution_count": 9,
   "metadata": {},
   "outputs": [
    {
     "data": {
      "text/plain": [
       "{'data': [{'created_time': '2018-08-03T14:57:22+0000',\n",
       "   'message': 'Test Post 2',\n",
       "   'id': '304532383443796_304532903443744'},\n",
       "  {'created_time': '2018-08-03T14:57:13+0000',\n",
       "   'message': 'Test Post',\n",
       "   'id': '304532383443796_304532736777094'}],\n",
       " 'paging': {'cursors': {'before': 'Q2c4U1pXNTBYM0YxWlhKNVgzTjBiM0o1WDJsa0R5UXpNRFExTXpJek9ETTBORE0zT1RZANkxUTXlPVGszTWpJeE1qZAzROakkwTkRBNU5ETVBER0ZA3YVY5emRHOXllVjlwWkE4ZAk16QTBOVE15TXpnek5EUXpOemsyWHpNd05EVXpNamt3TXpRME16YzBOQThFZAEdsdFpRWmJaRzFTQVE9PQZDZD',\n",
       "   'after': 'Q2c4U1pXNTBYM0YxWlhKNVgzTjBiM0o1WDJsa0R5SXpNRFExTXpJek9ETTBORE0zT1RZANk5qVTJOREkxTVRNNU5qTXpPVFEyTXpFMkR3eGhjR2xmYzNSdmNubGZAhV1FQSHpNd05EVXpNak00TXpRME16YzVObDh6TURRMU16STNNelkzTnpjd09UUVBCSFJwYldVR1cyUnRTUUU9'}}}"
      ]
     },
     "execution_count": 9,
     "metadata": {},
     "output_type": "execute_result"
    }
   ],
   "source": [
    "me"
   ]
  },
  {
   "cell_type": "code",
   "execution_count": null,
   "metadata": {},
   "outputs": [],
   "source": []
  }
 ],
 "metadata": {
  "kernelspec": {
   "display_name": "Python 3",
   "language": "python",
   "name": "python3"
  },
  "language_info": {
   "codemirror_mode": {
    "name": "ipython",
    "version": 3
   },
   "file_extension": ".py",
   "mimetype": "text/x-python",
   "name": "python",
   "nbconvert_exporter": "python",
   "pygments_lexer": "ipython3",
   "version": "3.6.2"
  }
 },
 "nbformat": 4,
 "nbformat_minor": 2
}
